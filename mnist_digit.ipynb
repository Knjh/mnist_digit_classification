{
  "nbformat": 4,
  "nbformat_minor": 0,
  "metadata": {
    "colab": {
      "provenance": []
    },
    "kernelspec": {
      "name": "python3",
      "display_name": "Python 3"
    },
    "language_info": {
      "name": "python"
    }
  },
  "cells": [
    {
      "cell_type": "code",
      "execution_count": 1,
      "metadata": {
        "id": "P9RR2LirOcL8"
      },
      "outputs": [],
      "source": [
        "import tensorflow\n",
        "from tensorflow import keras\n",
        "from tensorflow.keras import Sequential\n",
        "from tensorflow.keras.layers import Dense,Flatten"
      ]
    },
    {
      "cell_type": "code",
      "source": [
        "(x_train,y_train),(x_test,y_test) = keras.datasets.mnist.load_data()"
      ],
      "metadata": {
        "colab": {
          "base_uri": "https://localhost:8080/"
        },
        "id": "T6hlUsMXPAOF",
        "outputId": "4e2939ec-c54e-479c-b36a-8774dba45016"
      },
      "execution_count": 3,
      "outputs": [
        {
          "output_type": "stream",
          "name": "stdout",
          "text": [
            "Downloading data from https://storage.googleapis.com/tensorflow/tf-keras-datasets/mnist.npz\n",
            "11490434/11490434 [==============================] - 0s 0us/step\n"
          ]
        }
      ]
    },
    {
      "cell_type": "code",
      "source": [
        "x_train.shape"
      ],
      "metadata": {
        "colab": {
          "base_uri": "https://localhost:8080/"
        },
        "id": "eLcO6TVLPe2x",
        "outputId": "6099c5ee-ec0c-4cda-ae83-0654fc62c0b0"
      },
      "execution_count": 4,
      "outputs": [
        {
          "output_type": "execute_result",
          "data": {
            "text/plain": [
              "(60000, 28, 28)"
            ]
          },
          "metadata": {},
          "execution_count": 4
        }
      ]
    },
    {
      "cell_type": "code",
      "source": [
        "x_test.shape"
      ],
      "metadata": {
        "colab": {
          "base_uri": "https://localhost:8080/"
        },
        "id": "xiN4AFM-Ps9n",
        "outputId": "1a485414-0f55-4036-cbd0-1320c5c4745e"
      },
      "execution_count": 5,
      "outputs": [
        {
          "output_type": "execute_result",
          "data": {
            "text/plain": [
              "(10000, 28, 28)"
            ]
          },
          "metadata": {},
          "execution_count": 5
        }
      ]
    },
    {
      "cell_type": "code",
      "source": [
        "x_train = x_train/255\n",
        "x_test  = x_test/255"
      ],
      "metadata": {
        "id": "zIyDLOrRPtJu"
      },
      "execution_count": 6,
      "outputs": []
    },
    {
      "cell_type": "code",
      "source": [
        "model = Sequential()\n",
        "model.add(Dense(128,input_shape=(28,28),activation = 'relu'))\n",
        "model.add(Flatten())\n",
        "model.add(Dense(10,activation = 'softmax'))\n"
      ],
      "metadata": {
        "id": "dP2IiZERPtMi"
      },
      "execution_count": 7,
      "outputs": []
    },
    {
      "cell_type": "code",
      "source": [
        "model.summary()"
      ],
      "metadata": {
        "colab": {
          "base_uri": "https://localhost:8080/"
        },
        "id": "mvJ7SJ4XQai8",
        "outputId": "046b23f4-51ea-4abb-d80d-ceb41c07defc"
      },
      "execution_count": 8,
      "outputs": [
        {
          "output_type": "stream",
          "name": "stdout",
          "text": [
            "Model: \"sequential\"\n",
            "_________________________________________________________________\n",
            " Layer (type)                Output Shape              Param #   \n",
            "=================================================================\n",
            " dense (Dense)               (None, 28, 128)           3712      \n",
            "                                                                 \n",
            " flatten (Flatten)           (None, 3584)              0         \n",
            "                                                                 \n",
            " dense_1 (Dense)             (None, 10)                35850     \n",
            "                                                                 \n",
            "=================================================================\n",
            "Total params: 39562 (154.54 KB)\n",
            "Trainable params: 39562 (154.54 KB)\n",
            "Non-trainable params: 0 (0.00 Byte)\n",
            "_________________________________________________________________\n"
          ]
        }
      ]
    },
    {
      "cell_type": "code",
      "source": [
        "model.compile(loss='sparse_categorical_crossentropy',optimizer='Adam',metrics=['accuracy'])"
      ],
      "metadata": {
        "id": "jyNAM8VNQaZX"
      },
      "execution_count": 9,
      "outputs": []
    },
    {
      "cell_type": "code",
      "source": [
        "model.fit(x_train,y_train,epochs=10,validation_split=0.2)"
      ],
      "metadata": {
        "colab": {
          "base_uri": "https://localhost:8080/"
        },
        "id": "Jg87z-QBQaJ0",
        "outputId": "e86579b2-4ec1-4dda-85af-9c951489d94a"
      },
      "execution_count": 10,
      "outputs": [
        {
          "output_type": "stream",
          "name": "stdout",
          "text": [
            "Epoch 1/10\n",
            "1500/1500 [==============================] - 11s 7ms/step - loss: 0.2924 - accuracy: 0.9172 - val_loss: 0.1682 - val_accuracy: 0.9504\n",
            "Epoch 2/10\n",
            "1500/1500 [==============================] - 9s 6ms/step - loss: 0.1486 - accuracy: 0.9558 - val_loss: 0.1354 - val_accuracy: 0.9614\n",
            "Epoch 3/10\n",
            "1500/1500 [==============================] - 9s 6ms/step - loss: 0.1222 - accuracy: 0.9643 - val_loss: 0.1304 - val_accuracy: 0.9617\n",
            "Epoch 4/10\n",
            "1500/1500 [==============================] - 9s 6ms/step - loss: 0.1073 - accuracy: 0.9683 - val_loss: 0.1217 - val_accuracy: 0.9656\n",
            "Epoch 5/10\n",
            "1500/1500 [==============================] - 7s 5ms/step - loss: 0.0957 - accuracy: 0.9708 - val_loss: 0.1237 - val_accuracy: 0.9636\n",
            "Epoch 6/10\n",
            "1500/1500 [==============================] - 9s 6ms/step - loss: 0.0860 - accuracy: 0.9736 - val_loss: 0.1200 - val_accuracy: 0.9656\n",
            "Epoch 7/10\n",
            "1500/1500 [==============================] - 11s 7ms/step - loss: 0.0782 - accuracy: 0.9758 - val_loss: 0.1296 - val_accuracy: 0.9619\n",
            "Epoch 8/10\n",
            "1500/1500 [==============================] - 8s 5ms/step - loss: 0.0722 - accuracy: 0.9772 - val_loss: 0.1300 - val_accuracy: 0.9642\n",
            "Epoch 9/10\n",
            "1500/1500 [==============================] - 9s 6ms/step - loss: 0.0650 - accuracy: 0.9801 - val_loss: 0.1331 - val_accuracy: 0.9632\n",
            "Epoch 10/10\n",
            "1500/1500 [==============================] - 8s 5ms/step - loss: 0.0596 - accuracy: 0.9815 - val_loss: 0.1223 - val_accuracy: 0.9660\n"
          ]
        },
        {
          "output_type": "execute_result",
          "data": {
            "text/plain": [
              "<keras.src.callbacks.History at 0x79954c061b10>"
            ]
          },
          "metadata": {},
          "execution_count": 10
        }
      ]
    },
    {
      "cell_type": "code",
      "source": [
        "y_prob = model.predict(x_test)"
      ],
      "metadata": {
        "colab": {
          "base_uri": "https://localhost:8080/"
        },
        "id": "jObTjvndRU1H",
        "outputId": "57005802-8bcd-4c1b-8638-890c9fedf608"
      },
      "execution_count": 11,
      "outputs": [
        {
          "output_type": "stream",
          "name": "stdout",
          "text": [
            "313/313 [==============================] - 1s 3ms/step\n"
          ]
        }
      ]
    },
    {
      "cell_type": "code",
      "source": [
        "y_pred = y_prob.argmax(axis = 1)"
      ],
      "metadata": {
        "id": "JQ70SGVlRs3P"
      },
      "execution_count": 13,
      "outputs": []
    },
    {
      "cell_type": "code",
      "source": [
        "from sklearn.metrics import accuracy_score"
      ],
      "metadata": {
        "id": "QlC2cXpmRtMN"
      },
      "execution_count": 14,
      "outputs": []
    },
    {
      "cell_type": "code",
      "source": [
        "accuracy_score(y_test,y_pred)"
      ],
      "metadata": {
        "colab": {
          "base_uri": "https://localhost:8080/"
        },
        "id": "_v0Yk6U5SAeo",
        "outputId": "4c0b29a5-5027-4cc6-9306-67eadd1f4061"
      },
      "execution_count": 15,
      "outputs": [
        {
          "output_type": "execute_result",
          "data": {
            "text/plain": [
              "0.9672"
            ]
          },
          "metadata": {},
          "execution_count": 15
        }
      ]
    }
  ]
}